{
 "cells": [
  {
   "cell_type": "code",
   "execution_count": 2,
   "id": "60fa7d15-7db7-473b-a7ce-313bde297fa8",
   "metadata": {},
   "outputs": [
    {
     "name": "stdout",
     "output_type": "stream",
     "text": [
      "SHIFT_JIS\n"
     ]
    }
   ],
   "source": [
    "import pandas as pd\n",
    "import sqlite3\n",
    "import matplotlib.pyplot as plt\n",
    "\n",
    "# CSVファイルのパス（適宜変更）\n",
    "csv_file = \"/Users/koryosuzuki/Downloads/サンプル社員データ事例.csv\"\n",
    "\n",
    "import chardet\n",
    "\n",
    "with open(csv_file, \"rb\") as f:\n",
    "    result = chardet.detect(f.read(100000))  # 先頭100KBを解析\n",
    "    print(result[\"encoding\"])  # 推測されたエンコーディングを表示"
   ]
  },
  {
   "cell_type": "code",
   "execution_count": 16,
   "id": "5556c4ed-ea87-427b-9f48-7110a09042b6",
   "metadata": {
    "scrolled": true
   },
   "outputs": [
    {
     "name": "stdout",
     "output_type": "stream",
     "text": [
      "('田中太郎', '営業', 29, 2019, 4200000)\n",
      "('佐藤花子', '総務', 34, 2016, 3800000)\n",
      "('鈴木一郎', '開発', 26, 2021, 4500000)\n",
      "('高橋美咲', '営業', 31, 2018, 4600000)\n",
      "('山本大輔', '開発', 38, 2010, 5500000)\n",
      "('伊藤未来', '人事', 25, 2022, 3900000)\n",
      "('渡辺健', '営業', 45, 2005, 6000000)\n",
      "('中村真由', '総務', 28, 2020, 4100000)\n",
      "('小林俊介', '開発', 33, 2017, 5000000)\n",
      "('斎藤絵里', '人事', 30, 2018, 4300000)\n",
      "年齢順の社員一覧:\n",
      "('伊藤未来', '人事', 25, 2022, 3900000)\n",
      "('鈴木一郎', '開発', 26, 2021, 4500000)\n",
      "('中村真由', '総務', 28, 2020, 4100000)\n",
      "('田中太郎', '営業', 29, 2019, 4200000)\n",
      "('斎藤絵里', '人事', 30, 2018, 4300000)\n",
      "('高橋美咲', '営業', 31, 2018, 4600000)\n",
      "('小林俊介', '開発', 33, 2017, 5000000)\n",
      "('佐藤花子', '総務', 34, 2016, 3800000)\n",
      "('山本大輔', '開発', 38, 2010, 5500000)\n",
      "('渡辺健', '営業', 45, 2005, 6000000)\n",
      "\n",
      "部署ごとの平均給与:\n",
      "('人事', 4100000.0)\n",
      "('営業', 4933333.333333333)\n",
      "('総務', 3950000.0)\n",
      "('開発', 5000000.0)\n",
      "\n",
      "入社年が2018年以降の社員一覧:\n",
      "('田中太郎', '営業', 29, 2019, 4200000)\n",
      "('鈴木一郎', '開発', 26, 2021, 4500000)\n",
      "('高橋美咲', '営業', 31, 2018, 4600000)\n",
      "('伊藤未来', '人事', 25, 2022, 3900000)\n",
      "('中村真由', '総務', 28, 2020, 4100000)\n",
      "('斎藤絵里', '人事', 30, 2018, 4300000)\n"
     ]
    },
    {
     "data": {
      "image/png": "[encoded data removed]",
      "text/plain": [
       "<Figure size 800x500 with 1 Axes>"
      ]
     },
     "metadata": {},
     "output_type": "display_data"
    }
   ],
   "source": [
    "# 上記のエンコーディング名を使い、CSVを読み込む\n",
    "df = pd.read_csv(csv_file, encoding=\"SHIFT_JIS\")\n",
    "\n",
    "# 列名の変更(newをつけた)\n",
    "df.columns = [\"社員ID_new\", \"氏名_new\", \"部署_new\", \"年齢_new\", \"入社年_new\", \"給与_new\"]\n",
    "\n",
    "#社員IDを行名に変更\n",
    "df.set_index(\"社員ID_new\", inplace=True)\n",
    "\n",
    "# 欠損値を補完（例: 空白を0や適切な値で補完）\n",
    "df.fillna({\"年齢_new\": df[\"年齢_new\"].median(), \"給与_new\": df[\"給与_new\"].median()}, inplace=True)\n",
    "\n",
    "# SQLiteデータベースに接続\n",
    "conn = sqlite3.connect(\"employees.db\")\n",
    "cursor = conn.cursor()\n",
    "\n",
    "# テーブルを作成\n",
    "cursor.execute('''\n",
    "CREATE TABLE IF NOT EXISTS employees (\n",
    "    社員ID_new INTEGER,\n",
    "    氏名_new TEXT,\n",
    "    部署_new TEXT,\n",
    "    年齢_new INTEGER,\n",
    "    入社年_new INTEGER,\n",
    "    給与_new INTEGER\n",
    ")\n",
    "''')\n",
    "\n",
    "# データをSQLiteに挿入\n",
    "df.to_sql(\"employees\", conn, if_exists=\"replace\", index=False)\n",
    "\n",
    "# データを取得し表示\n",
    "for row in cursor.execute(\"SELECT * FROM employees\"):\n",
    "    print(row)\n",
    "\n",
    "##目的を絞ってデータを取得し表示\n",
    "# ① 年齢順に社員を表示\n",
    "print(\"年齢順の社員一覧:\")\n",
    "for row in cursor.execute(\"SELECT * FROM employees ORDER BY 年齢_new\"):\n",
    "    print(row)\n",
    "\n",
    "# ② 部署ごとの平均給与を集計\n",
    "print(\"\\n部署ごとの平均給与:\")\n",
    "cursor.execute(\"SELECT 部署_new, AVG(給与_new) FROM employees GROUP BY 部署_new\")\n",
    "for row in cursor.fetchall():\n",
    "    print(row)\n",
    "\n",
    "# ③ 入社年が2018年以降の社員一覧を抽出\n",
    "print(\"\\n入社年が2018年以降の社員一覧:\")\n",
    "cursor.execute(\"SELECT * FROM employees WHERE 入社年_new >= 2018\")\n",
    "for row in cursor.fetchall():\n",
    "    print(row)\n",
    "\n",
    "# bonus: matplotlibで部署別平均給与の棒グラフを表示\n",
    "import matplotlib.font_manager as fm\n",
    "# 日本語フォントのパスを指定（Macの場合）\n",
    "font_path = \"/System/Library/Fonts/ヒラギノ角ゴシック W3.ttc\"  # Macの場合の一例\n",
    "prop = fm.FontProperties(fname=font_path)\n",
    "## 本格的に図を作成\n",
    "cursor.execute(\"SELECT 部署_new, AVG(給与_new) FROM employees GROUP BY 部署_new\")\n",
    "data = cursor.fetchall()\n",
    "部署_new = [row[0] for row in data]\n",
    "平均給与_new = [row[1] for row in data]\n",
    "\n",
    "plt.figure(figsize=(8, 5))\n",
    "plt.bar(部署_new, 平均給与_new, color='skyblue')\n",
    "plt.xlabel(\"部署_new\", fontproperties=prop)\n",
    "plt.ylabel(\"平均給与\", fontproperties=prop)\n",
    "plt.title(\"部署別平均給与\", fontproperties=prop)\n",
    "plt.xticks(rotation=45, fontproperties=prop)\n",
    "plt.show()"
   ]
  },
  {
   "cell_type": "code",
   "execution_count": null,
   "id": "5960416c-e322-4239-8bd3-ebce4f3012d7",
   "metadata": {},
   "outputs": [],
   "source": []
  }
 ],
 "metadata": {
  "kernelspec": {
   "display_name": "Python 3 (ipykernel)",
   "language": "python",
   "name": "python3"
  },
  "language_info": {
   "codemirror_mode": {
    "name": "ipython",
    "version": 3
   },
   "file_extension": ".py",
   "mimetype": "text/x-python",
   "name": "python",
   "nbconvert_exporter": "python",
   "pygments_lexer": "ipython3",
   "version": "3.12.7"
  }
 },
 "nbformat": 4,
 "nbformat_minor": 5
}
